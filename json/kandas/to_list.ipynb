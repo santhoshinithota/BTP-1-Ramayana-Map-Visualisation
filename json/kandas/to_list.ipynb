{
 "cells": [
  {
   "cell_type": "code",
   "execution_count": 2,
   "metadata": {},
   "outputs": [],
   "source": [
    "import json\n",
    "\n",
    "# Read the JSON file with UTF-8 encoding\n",
    "kanda = 'yuddha'\n",
    "with open(f'{kanda}.json', 'r', encoding='utf-8') as file:\n",
    "    data = json.load(file)\n",
    "\n",
    "# Extract the content from each point\n",
    "content_list = [point['content'] for point in data['points']]\n",
    "\n",
    "# Write the content to a new file\n",
    "with open(f'{kanda}_list.txt', 'w', encoding='utf-8') as file:\n",
    "    for index, content in enumerate(content_list, start=1):\n",
    "        file.write(f\"{index}. {content}\\n\")\n"
   ]
  },
  {
   "cell_type": "code",
   "execution_count": null,
   "metadata": {},
   "outputs": [],
   "source": []
  }
 ],
 "metadata": {
  "kernelspec": {
   "display_name": "Python 3",
   "language": "python",
   "name": "python3"
  },
  "language_info": {
   "codemirror_mode": {
    "name": "ipython",
    "version": 3
   },
   "file_extension": ".py",
   "mimetype": "text/x-python",
   "name": "python",
   "nbconvert_exporter": "python",
   "pygments_lexer": "ipython3",
   "version": "3.12.0"
  }
 },
 "nbformat": 4,
 "nbformat_minor": 2
}
